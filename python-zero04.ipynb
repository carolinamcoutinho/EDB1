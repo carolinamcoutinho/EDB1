{
 "cells": [
  {
   "cell_type": "markdown",
   "metadata": {},
   "source": [
    "<small><small><i>\n",
    "Este notebook foi baseado nos notebooks disponíveis em [https://gitlab.erc.monash.edu.au/andrease/Python4Maths.git]\n",
    "</i></small></small>"
   ]
  },
  {
   "cell_type": "markdown",
   "metadata": {},
   "source": [
    "# Reaproveitando código\n",
    "\n",
    "Uma outra maneira de utilizar um código múltiplas vezes é através de **procedimentos**.\n",
    "\n",
    "Um procedimento é um conjunto de instruções agrupados em um bloco que recebem um nome e podem ser chamados quantas vezes for necessário.\n",
    "\n",
    "Nos roteiros anteriores, você já vem usando procedimentos como ```input()```, ```print()``` e ```randint()```.\n",
    "\n",
    "Você também pode criar seus próprios procedimentos usando o seguinte padrão:\n",
    "\n",
    "```python\n",
    "def nome():\n",
    "    instrucao\n",
    "    instrucao\n",
    "    ...\n",
    "```\n",
    "\n",
    "O padrão acima pode ser lido como ```definir``` um procedimento chamado ```nome```, que executará o seguinte bloco de instruções.\n",
    "\n",
    "As regras básicas para a **definição e uso de procedimentos** em Python são:\n",
    "\n",
    "* O trecho de código delimitado por um procedimento é chamado bloco e deve ser identado.\n",
    "* Um procedimento é chamado utilizando a notação ```nome()```."
   ]
  },
  {
   "cell_type": "code",
   "execution_count": 1,
   "metadata": {},
   "outputs": [
    {
     "name": "stdout",
     "output_type": "stream",
     "text": [
      "Bom dia!\n"
     ]
    }
   ],
   "source": [
    "def bom_dia():\n",
    "    print(\"Bom dia!\")\n",
    "\n",
    "bom_dia()"
   ]
  },
  {
   "cell_type": "markdown",
   "metadata": {},
   "source": [
    "### Exercícios de fixação"
   ]
  },
  {
   "cell_type": "markdown",
   "metadata": {},
   "source": [
    "1 - Crie um procedimento ```aleatorio()``` que imprima um inteiro aleatorio pertencente ao intervalo [1,60]."
   ]
  },
  {
   "cell_type": "code",
   "execution_count": 3,
   "metadata": {},
   "outputs": [
    {
     "name": "stdout",
     "output_type": "stream",
     "text": [
      "18\n"
     ]
    }
   ],
   "source": [
    "from random import randint\n",
    "def aleatorio():\n",
    "    print(randint(1,60))\n",
    "\n",
    "aleatorio()"
   ]
  },
  {
   "cell_type": "markdown",
   "metadata": {},
   "source": [
    "2 - Crie um procedimento mega_sena() que use o procedimento aleatorio() e imprima um jogo da mega sena."
   ]
  },
  {
   "cell_type": "code",
   "execution_count": 4,
   "metadata": {},
   "outputs": [
    {
     "name": "stdout",
     "output_type": "stream",
     "text": [
      "44\n",
      "55\n",
      "53\n",
      "2\n",
      "26\n",
      "12\n"
     ]
    }
   ],
   "source": [
    "from random import randint\n",
    "def aleatorio():\n",
    "    print(randint(1,60))\n",
    "\n",
    "def mega_sena():\n",
    "    for i in range(0,6):\n",
    "        aleatorio()\n",
    "        \n",
    "mega_sena()"
   ]
  },
  {
   "cell_type": "markdown",
   "metadata": {},
   "source": [
    "## Customizando a execução de um procedimento"
   ]
  },
  {
   "cell_type": "markdown",
   "metadata": {},
   "source": [
    "Você pode configurar o comportamento de um procedimento utilizando **parâmetros de chamada** (também conhecidos como *argumentos*).\n",
    "\n",
    "Não existe um limite para a quantidade de argumentos de um procedimento, mas você deve nomeá-los ao definir seu procedimento para poder utilizá-los como variáveis:\n",
    "\n",
    "```python\n",
    "def nome(arg1, arg2, ..., argN):\n",
    "    instrucao\n",
    "    instrucao\n",
    "    ...\n",
    "```\n"
   ]
  },
  {
   "cell_type": "code",
   "execution_count": 5,
   "metadata": {
    "scrolled": true
   },
   "outputs": [
    {
     "name": "stdout",
     "output_type": "stream",
     "text": [
      "Nome: Leonardo Bezerra\n",
      "Idade: 31\n",
      "Email: leobezerra@imd.ufrn.br\n"
     ]
    }
   ],
   "source": [
    "def info_pessoa(nome, idade, email):\n",
    "    print(\"Nome:\", nome)\n",
    "    print(\"Idade:\", idade)\n",
    "    print(\"Email:\", email)\n",
    "\n",
    "info_pessoa(\"Leonardo Bezerra\", \"31\", \"leobezerra@imd.ufrn.br\")"
   ]
  },
  {
   "cell_type": "markdown",
   "metadata": {},
   "source": [
    "### Exercícios de fixação"
   ]
  },
  {
   "cell_type": "markdown",
   "metadata": {},
   "source": [
    "1 - Crie um procedimento ```media()``` que receba notas de 3 unidades de uma disciplina e calcule sua média."
   ]
  },
  {
   "cell_type": "code",
   "execution_count": 11,
   "metadata": {},
   "outputs": [
    {
     "name": "stdout",
     "output_type": "stream",
     "text": [
      "Média: 6.0\n"
     ]
    }
   ],
   "source": [
    "def media(nota1, nota2, nota3):\n",
    "    media = (nota1 + nota2 + nota3) / 3\n",
    "    print(f'Média: {media}')\n",
    "\n",
    "media(7, 5, 6)"
   ]
  },
  {
   "cell_type": "markdown",
   "metadata": {},
   "source": [
    "2 - Crie um procedimento ```fatorial()``` que receba um inteiro N e imprima seu fatorial."
   ]
  },
  {
   "cell_type": "code",
   "execution_count": 12,
   "metadata": {},
   "outputs": [
    {
     "name": "stdout",
     "output_type": "stream",
     "text": [
      "Fatorial de 5: 120\n"
     ]
    }
   ],
   "source": [
    "def fatorial(n):\n",
    "    fatorial = 1\n",
    "    for i in range(1, n + 1):\n",
    "        fatorial *= i\n",
    "    print(f'Fatorial de {n}: {fatorial}')\n",
    "    \n",
    "fatorial(5)"
   ]
  },
  {
   "cell_type": "markdown",
   "metadata": {},
   "source": [
    "## Interrompendo a execução de um procedimento"
   ]
  },
  {
   "cell_type": "markdown",
   "metadata": {},
   "source": [
    "Assim como é possível interromper uma repetição usando o comando ```break```, é possível interromper a execução de um procedimento usando o comando ```return```."
   ]
  },
  {
   "cell_type": "code",
   "execution_count": 13,
   "metadata": {
    "scrolled": true
   },
   "outputs": [
    {
     "name": "stdout",
     "output_type": "stream",
     "text": [
      "Raiz: 2.0\n",
      "Raiz: 4.0\n"
     ]
    }
   ],
   "source": [
    "def raiz_quadrada(n):\n",
    "    if n < 0:\n",
    "        return\n",
    "    print(\"Raiz:\", n ** 0.5)\n",
    "\n",
    "raiz_quadrada(4)\n",
    "raiz_quadrada(16)\n",
    "raiz_quadrada(-1)"
   ]
  },
  {
   "cell_type": "markdown",
   "metadata": {},
   "source": [
    "### Exercícios de fixação"
   ]
  },
  {
   "cell_type": "markdown",
   "metadata": {},
   "source": [
    "1 - Crie um procedimento ```divisao_inteira()``` que imprima o resultado e o resto da divisão inteira de dois parâmetros inteiros. Se não houver resto, seu procedimento deverá imprimir apenas o resultado da divisão."
   ]
  },
  {
   "cell_type": "code",
   "execution_count": 20,
   "metadata": {},
   "outputs": [
    {
     "name": "stdout",
     "output_type": "stream",
     "text": [
      "Resultado: 8 Resto: 3\n"
     ]
    }
   ],
   "source": [
    "def divisao_inteira(n1, n2):\n",
    "    resu = n1 // n2\n",
    "    resto = n1 % n2\n",
    "    if resto != 0:\n",
    "        print(f'Resultado: {resu} Resto: {resto}')\n",
    "    else:\n",
    "        print(f'Resultado: {resu}')\n",
    "    if resto == 0:\n",
    "        return\n",
    "    \n",
    "divisao_inteira(43, 5)"
   ]
  },
  {
   "cell_type": "markdown",
   "metadata": {},
   "source": [
    "## Produzindo um valor a partir de um procedimento"
   ]
  },
  {
   "cell_type": "markdown",
   "metadata": {},
   "source": [
    "Outro uso do comando ```return``` é permitir que um procedimento produza um resultado (retorne um valor).\n",
    "\n",
    "Tanto é possível retornar valores diretamente, como usando as varíaveis associadas a esses valores."
   ]
  },
  {
   "cell_type": "code",
   "execution_count": 21,
   "metadata": {
    "scrolled": true
   },
   "outputs": [
    {
     "name": "stdout",
     "output_type": "stream",
     "text": [
      "3\n",
      "10\n",
      "45\n"
     ]
    }
   ],
   "source": [
    "def soma_n_primeiros(n):\n",
    "    soma = 0\n",
    "    for i in range(n):\n",
    "        soma += i\n",
    "    return soma\n",
    "\n",
    "print(soma_n_primeiros(3))\n",
    "print(soma_n_primeiros(5))\n",
    "print(soma_n_primeiros(10))"
   ]
  },
  {
   "cell_type": "markdown",
   "metadata": {},
   "source": [
    "### Exercícios de fixação"
   ]
  },
  {
   "cell_type": "markdown",
   "metadata": {},
   "source": [
    "1 - Crie um procedimento ```valor_absoluto()``` que retorne o valor absoluto de um parâmetro."
   ]
  },
  {
   "cell_type": "code",
   "execution_count": 23,
   "metadata": {},
   "outputs": [
    {
     "name": "stdout",
     "output_type": "stream",
     "text": [
      "40\n"
     ]
    }
   ],
   "source": [
    "def valor_absoluto(numero):\n",
    "    if numero < 0:\n",
    "        return -numero\n",
    "    else:\n",
    "        return numero\n",
    "\n",
    "print(valor_absoluto(-40))"
   ]
  },
  {
   "cell_type": "markdown",
   "metadata": {},
   "source": [
    "## Usando procedimentos definidos por outros"
   ]
  },
  {
   "cell_type": "markdown",
   "metadata": {},
   "source": [
    "Um dos principais usos de procedimentos é a construção de **bibliotecas**, que são códigos criados por outras pessoas que você pode utilizar dentro do seu código.\n",
    "\n",
    "Nesta disciplina, você poderá **importar** procedimentos de bibliotecas de duas formas:\n",
    "- Importando procedimento(s) específico(s) de uma biblioteca\n",
    "```python\n",
    "from biblioteca import procedimento1, procedimento2, ..., procedimentoN\n",
    "```\n",
    "- Importando todos os procedimentos de uma biblioteca\n",
    "```python\n",
    "from biblioteca import *\n",
    "```"
   ]
  },
  {
   "cell_type": "markdown",
   "metadata": {},
   "source": [
    "### Exercícios de fixação"
   ]
  },
  {
   "cell_type": "markdown",
   "metadata": {},
   "source": [
    "1 - Em roteiros anteriores, você usou a função ```randint()```. Qual biblioteca fornece esse procedimento?"
   ]
  },
  {
   "cell_type": "markdown",
   "metadata": {},
   "source": [
    "Resposta: A biblioteca random"
   ]
  },
  {
   "cell_type": "markdown",
   "metadata": {},
   "source": [
    "2 - Use os procedimentos ```sin()``` e ```floor()``` da biblioteca ```math``` para calcular o seno de um número e transformá-lo em um inteiro arredondando-o para baixo."
   ]
  },
  {
   "cell_type": "code",
   "execution_count": 28,
   "metadata": {},
   "outputs": [
    {
     "name": "stdout",
     "output_type": "stream",
     "text": [
      "Digite um número: 40\n",
      "Seno de 40.0 é 0.75\n",
      "Seno arredondado para baixo: 0\n"
     ]
    }
   ],
   "source": [
    "import math\n",
    "\n",
    "numero = float(input(\"Digite um número: \"))\n",
    "seno = math.sin(numero)\n",
    "inteiro_arredondado = math.floor(seno)\n",
    "\n",
    "print(f\"Seno de {numero} é {seno:.2f}\")\n",
    "print(f\"Seno arredondado para baixo: {inteiro_arredondado}\")\n"
   ]
  },
  {
   "cell_type": "markdown",
   "metadata": {
    "collapsed": true
   },
   "source": [
    "## Exercícios do URI"
   ]
  },
  {
   "cell_type": "markdown",
   "metadata": {
    "collapsed": true
   },
   "source": [
    "[2630](https://www.urionlinejudge.com.br/judge/pt/problems/view/2630) - Sistemas de computação gráfica representam imagens como um conjunto de pontos (pixels) formados por três componentes: vermelho, verde e azul.\n",
    "\n",
    "Alguns algoritmos de processamento de imagem exigem um pré-processamento no qual é necessário transformar uma imagem colorida em uma imagem em tons de cinza. Esta conversão pode ser realizada de diversas maneiras, dependendo do resultado que se pretende obter.\n",
    "\n",
    "Para preservar a percepção das cores básicas pelo olho humano, uma conversão apropriada seria tomar 30% da componente vermelha (R), 59% da componente verde (G) e 11% da componente azul (B). Em termos matemáticos,\n",
    "\n",
    "P = 0,30R + 0,59G + 0,11B\n",
    "\n",
    "Outras abordagens possíveis seriam determinar o valor de P através da média aritmética das três componentes ou atribuir a P os valores da maior ou da menor entre as três componentes.\n",
    "\n",
    "Escreva um código Python que, dadas as componentes RGB de um pixel da imagem colorida, determine o valor do pixel P da imagem em tons de cinza correspondente, determinada a conversão a ser utilizada. Despreze a parte decimal do resultado, caso exista.\n",
    "\n",
    "A entrada consiste em T (1 ≤ T ≤ 100) casos de teste, onde o valor de T é dado na primeira linha da entrada. Cada caso de teste é composto por quatro linhas: a primeira linha contém a conversão a ser utilizada: eye para a primeira abordagem descrita, mean para a média aritmética, max para o valor da maior componente e min para o valor da menor componente. As demais linhas contêm os valores R, G, B (0 ≤ R, G, B ≤ 255) do pixel da imagem colorida.\n",
    "\n",
    "Para cada caso de testes dever ser impresso P, onde P é o nível de cinza do pixel da imagem em tons de cinza após a conversão do pixel da imagem colorida."
   ]
  },
  {
   "cell_type": "markdown",
   "metadata": {},
   "source": [
    "|.| Entrada | Saída |\n",
    "|-|:----:|:-:|\n",
    "| *Exemplo 1* | 3<br/>min<br/>35<br/>70<br/>35<br/>mean<br/>10<br/>74<br/>181<br/>eye<br/>23<br/>78<br/>197 | 35<br/>88<br/>74 | \n",
    "| *Exemplo 2* | 4<br/>min<br/>41<br/>27<br/>32<br/>min<br/>10<br/>21<br/>6<br/>max<br/>15<br/>41<br/>72<br/>max<br/>40<br/>21<br/>63 | 27<br/>6<br/>72<br/>41 | \n",
    "| *Exemplo 3* | 2<br/>eye<br/>7<br/>62<br/>200<br/>mean<br/>15<br/>49<br/>227 | 60<br/>97 | "
   ]
  },
  {
   "cell_type": "code",
   "execution_count": 77,
   "metadata": {},
   "outputs": [
    {
     "name": "stdout",
     "output_type": "stream",
     "text": [
      "2\n",
      "eye\n",
      "7\n",
      "62\n",
      "200\n",
      "60\n",
      "mean\n",
      "15\n",
      "49\n",
      "227\n",
      "97\n"
     ]
    }
   ],
   "source": [
    "def escala(conv, r, g, b):\n",
    "    if conv == \"eye\":\n",
    "        p = int(0.30 * r + 0.59 * g + 0.11 * b)\n",
    "    elif conv == \"mean\":\n",
    "        p = int((r + g + b) / 3)\n",
    "    elif conv == \"max\":\n",
    "        p = max(r, g, b)\n",
    "    elif conv == \"min\":\n",
    "        p = min(r, g, b)\n",
    "    return p\n",
    "\n",
    "def main():\n",
    "    T = int(input())\n",
    "    \n",
    "    for _ in range(T):\n",
    "        conv = input().strip()\n",
    "        r = int(input())\n",
    "        g = int(input())\n",
    "        b = int(input())\n",
    "        \n",
    "        p = escala(conv, r, g, b)\n",
    "        print(p)\n",
    "\n",
    "main()"
   ]
  },
  {
   "cell_type": "markdown",
   "metadata": {},
   "source": [
    "[2165](https://www.urionlinejudge.com.br/judge/pt/problems/view/2165) - O microblog Twitter é conhecido por limitar as postagens em 140 caracteres. Mais recentemente, alguns usuários como a @HBO_Brasil tiveram seus limites de caracteres dobrados para 280.\n",
    "\n",
    "Escreva um código que confira se um texto vai caber em um tuíte. Cada caso de teste é iniciado com um inteiro informando a qual limite o usuário tem direito. Caso o tamanho do caracter exceda esse limite, seu código deverá imprimir a mensagem NO. Caso contrário, seu código deverá imprimir a mensagem OK.\n"
   ]
  },
  {
   "cell_type": "markdown",
   "metadata": {},
   "source": [
    "|.| Entrada | Saída |\n",
    "|-|----|:-:|\n",
    "| *Exemplo 1* | 280<br/>Agora dá: Daenerys Targaryen, Filha da Tormenta, Não Queimada, Mãe de Dragões, Rainha de Mereen,<br/>Rainha dos Ândalos e dos Primeiros Homens, Quebradora de Correntes, Senhora dos Sete Reinos,<br/>Khaleesi dos Dothraki, a Primeira de Seu Nome. Descendente da Casa Targaryen. | OK | \n",
    "| *Exemplo 2* | 140<br/>Jon Snow. Ele é Rei do Norte. | OK | \n",
    "| *Exemplo 3* | 140<br/>Fish fingers last night! Looking forward to meeting with<br/>Prime Minister @Netanyahu shortly. (Was thinking of making a joke on<br/>his name – Netanya-WHO!? but @IvankaTrump said best not.)<br/>Peace in the Middle East would be a truly great legacy for ALL people! | NO | \n",
    "\n",
    "\n"
   ]
  },
  {
   "cell_type": "code",
   "execution_count": 56,
   "metadata": {},
   "outputs": [
    {
     "name": "stdout",
     "output_type": "stream",
     "text": [
      "Limite de caracteres: 140\n",
      "Fish fingers last night! Looking forward to meeting with Prime Minister @Netanyahu shortly. (Was thinking of making a joke on his name – Netanya-WHO!? but @IvankaTrump said best not.) Peace in the Middle East would be a truly great legacy for ALL people!\t\n",
      "NO\n"
     ]
    }
   ],
   "source": [
    "def limite():\n",
    "    lim = int(input('Limite de caracteres: '))\n",
    "    texto = input()\n",
    "    if len(texto) > lim:\n",
    "        print('NO')\n",
    "    else:\n",
    "        print('OK')\n",
    "        \n",
    "limite()"
   ]
  },
  {
   "cell_type": "markdown",
   "metadata": {},
   "source": [
    "3 - Em exercícios de notebooks anteriores, você implementou códigos para calcular a contribuição mensal de um trabalhador para o INSS e seu IRPF (imposto de renda pessoa física).\n",
    "\n",
    "Reuse seus códigos de forma modularizada para criar um código que leia o salário bruto de um trabalhador e imprima se salário líquido (descontados INSS e IRPF)."
   ]
  },
  {
   "cell_type": "markdown",
   "metadata": {},
   "source": [
    "|.| Entrada | Saída |\n",
    "|-|:-:|-|\n",
    "| *Exemplo 1* | 1200.00 | 1104.00 | \n",
    "| *Exemplo 2* | 5485.00 | 4474.05 |\n",
    "| *Exemplo 3* | 10431.00 | 8059.90 |"
   ]
  },
  {
   "cell_type": "code",
   "execution_count": 84,
   "metadata": {},
   "outputs": [
    {
     "name": "stdout",
     "output_type": "stream",
     "text": [
      "1104.00\n"
     ]
    }
   ],
   "source": [
    "def liquido(bruto):\n",
    "    salario = ali = parcela = contri = liquido = 0\n",
    "    if bruto <= 1693.72:\n",
    "        contri = bruto * 0.08\n",
    "        salario = bruto - contri\n",
    "    elif 1693.73 <= bruto <= 2822.90:\n",
    "        contri = bruto * 0.09\n",
    "        salario = bruto - contri\n",
    "    elif 2822.91 <= bruto <= 5645.80:\n",
    "        contri = bruto * 0.11\n",
    "        salario = bruto - contri\n",
    "    elif bruto >= 5645.81:\n",
    "        contri = 621.04\n",
    "        salario = bruto - contri\n",
    "    \n",
    "    base = salario\n",
    "    if base <= 1903.98:\n",
    "        contri = 0.00\n",
    "        liquido = base\n",
    "    elif 1903.99 <= base <= 2826.65:\n",
    "        ali = 7.5/100\n",
    "        parcela = 142.80\n",
    "        contri = base * ali - parcela\n",
    "        liquido = base - contri\n",
    "    elif 2826.66 <= base <= 3751.05:\n",
    "        ali = 15/100\n",
    "        parcela = 354.80\n",
    "        contri = base * ali - parcela\n",
    "        liquido = base - contri\n",
    "    elif 3751.06 <= base <= 4664.68:\n",
    "        ali = 22.5/100\n",
    "        parcela = 636.13\n",
    "        contri = base * ali - parcela\n",
    "        liquido = base - contri\n",
    "    elif base > 4664.68:\n",
    "        ali = 27.5/100\n",
    "        parcela = 869.36\n",
    "        contri = base * ali - parcela\n",
    "        liquido = base - contri\n",
    "    print(f'{liquido:.2f}')\n",
    "\n",
    "liquido(1200.00)"
   ]
  }
 ],
 "metadata": {
  "kernelspec": {
   "display_name": "Python 3 (ipykernel)",
   "language": "python",
   "name": "python3"
  },
  "language_info": {
   "codemirror_mode": {
    "name": "ipython",
    "version": 3
   },
   "file_extension": ".py",
   "mimetype": "text/x-python",
   "name": "python",
   "nbconvert_exporter": "python",
   "pygments_lexer": "ipython3",
   "version": "3.10.9"
  }
 },
 "nbformat": 4,
 "nbformat_minor": 1
}
